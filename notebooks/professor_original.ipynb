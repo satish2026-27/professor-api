{
  "nbformat": 4,
  "nbformat_minor": 0,
  "metadata": {
    "colab": {
      "provenance": [],
      "gpuType": "T4"
    },
    "kernelspec": {
      "name": "python3",
      "display_name": "Python 3"
    },
    "language_info": {
      "name": "python"
    },
    "accelerator": "GPU"
  },
  "cells": [
    {
      "cell_type": "markdown",
      "source": [
        "##**General information**\n",
        "\n",
        "This Colab notebook enables to design sequence of IDPs with target scaling exponents ($\\nu$) and radius of gyration ($r_g$).\n",
        "\n",
        "The user needs to provide as input a starting sequence and a target value for $\\nu$. The starting sequence can be evolved with swap moves or single point mutations.\n",
        "\n"
      ],
      "metadata": {
        "id": "B6tFpRzro6Ud"
      }
    },
    {
      "cell_type": "code",
      "source": [
        "#@title <b>Preliminary operations (i)</b>\n",
        "import random\n",
        "import subprocess\n",
        "import os\n",
        "import pandas as pd\n",
        "pd.options.mode.chained_assignment = None\n",
        "import numpy as np\n",
        "import itertools\n",
        "from joblib import dump, load\n",
        "!pip install wget\n",
        "!pip install localcider\n",
        "!pip install scikit-learn\n",
        "\n",
        "!pip install idptools-parrot --quiet;\n",
        "!pip install git+https://git@github.com/idptools/sparrow.git --quiet;\n",
        "import wget\n",
        "from localcider.sequenceParameters import SequenceParameters\n",
        "import matplotlib.pyplot as plt\n",
        "from google.colab import files\n",
        "from ipywidgets import IntProgress\n",
        "from IPython.display import display\n",
        "from IPython.display import clear_output\n",
        "import warnings\n",
        "warnings.filterwarnings('ignore')\n",
        "import sklearn\n",
        "\n"
      ],
      "metadata": {
        "id": "Bf79jLltcs7c",
        "colab": {
          "base_uri": "https://localhost:8080/"
        },
        "outputId": "c0293354-1a7c-4848-85d0-4b9351b56100"
      },
      "execution_count": 19,
      "outputs": [
        {
          "output_type": "stream",
          "name": "stdout",
          "text": [
            "Requirement already satisfied: wget in /usr/local/lib/python3.12/dist-packages (3.2)\n",
            "Requirement already satisfied: localcider in /usr/local/lib/python3.12/dist-packages (0.1.21)\n",
            "Requirement already satisfied: numpy in /usr/local/lib/python3.12/dist-packages (from localcider) (2.0.2)\n",
            "Requirement already satisfied: matplotlib in /usr/local/lib/python3.12/dist-packages (from localcider) (3.10.0)\n",
            "Requirement already satisfied: scipy in /usr/local/lib/python3.12/dist-packages (from localcider) (1.16.1)\n",
            "Requirement already satisfied: BioPython in /usr/local/lib/python3.12/dist-packages (from localcider) (1.85)\n",
            "Requirement already satisfied: contourpy>=1.0.1 in /usr/local/lib/python3.12/dist-packages (from matplotlib->localcider) (1.3.3)\n",
            "Requirement already satisfied: cycler>=0.10 in /usr/local/lib/python3.12/dist-packages (from matplotlib->localcider) (0.12.1)\n",
            "Requirement already satisfied: fonttools>=4.22.0 in /usr/local/lib/python3.12/dist-packages (from matplotlib->localcider) (4.59.2)\n",
            "Requirement already satisfied: kiwisolver>=1.3.1 in /usr/local/lib/python3.12/dist-packages (from matplotlib->localcider) (1.4.9)\n",
            "Requirement already satisfied: packaging>=20.0 in /usr/local/lib/python3.12/dist-packages (from matplotlib->localcider) (25.0)\n",
            "Requirement already satisfied: pillow>=8 in /usr/local/lib/python3.12/dist-packages (from matplotlib->localcider) (11.3.0)\n",
            "Requirement already satisfied: pyparsing>=2.3.1 in /usr/local/lib/python3.12/dist-packages (from matplotlib->localcider) (3.2.3)\n",
            "Requirement already satisfied: python-dateutil>=2.7 in /usr/local/lib/python3.12/dist-packages (from matplotlib->localcider) (2.9.0.post0)\n",
            "Requirement already satisfied: six>=1.5 in /usr/local/lib/python3.12/dist-packages (from python-dateutil>=2.7->matplotlib->localcider) (1.17.0)\n",
            "Requirement already satisfied: scikit-learn in /usr/local/lib/python3.12/dist-packages (1.6.1)\n",
            "Requirement already satisfied: numpy>=1.19.5 in /usr/local/lib/python3.12/dist-packages (from scikit-learn) (2.0.2)\n",
            "Requirement already satisfied: scipy>=1.6.0 in /usr/local/lib/python3.12/dist-packages (from scikit-learn) (1.16.1)\n",
            "Requirement already satisfied: joblib>=1.2.0 in /usr/local/lib/python3.12/dist-packages (from scikit-learn) (1.5.2)\n",
            "Requirement already satisfied: threadpoolctl>=3.1.0 in /usr/local/lib/python3.12/dist-packages (from scikit-learn) (3.6.0)\n",
            "  Installing build dependencies ... \u001b[?25l\u001b[?25hdone\n",
            "  Getting requirements to build wheel ... \u001b[?25l\u001b[?25hdone\n",
            "  Preparing metadata (pyproject.toml) ... \u001b[?25l\u001b[?25hdone\n",
            "  Installing build dependencies ... \u001b[?25l\u001b[?25hdone\n",
            "  Getting requirements to build wheel ... \u001b[?25l\u001b[?25hdone\n",
            "  Preparing metadata (pyproject.toml) ... \u001b[?25l\u001b[?25hdone\n"
          ]
        }
      ]
    },
    {
      "cell_type": "code",
      "source": [
        "! pip install fair-esm"
      ],
      "metadata": {
        "colab": {
          "base_uri": "https://localhost:8080/"
        },
        "id": "m0FKUPSLra8x",
        "outputId": "ec2e33d2-738a-45a8-a44b-d215731e00ba"
      },
      "execution_count": 20,
      "outputs": [
        {
          "output_type": "stream",
          "name": "stdout",
          "text": [
            "Requirement already satisfied: fair-esm in /usr/local/lib/python3.12/dist-packages (2.0.0)\n"
          ]
        }
      ]
    },
    {
      "cell_type": "code",
      "source": [
        "\n",
        "\n",
        "# Install from GitHub\n",
        "!git clone https://github.com/doszilab/AIUPred\n",
        "%cd AIUPred\n",
        "!pip install torch>=2.2.0 torchvision\n",
        "!pip install -r requirements.txt --no-deps || pip install numpy scipy matplotlib seaborn pandas\n",
        "import sys\n",
        "sys.path.append('.')\n",
        "import aiupred_lib\n",
        "\n"
      ],
      "metadata": {
        "id": "W04zMu94eW-U",
        "colab": {
          "base_uri": "https://localhost:8080/"
        },
        "outputId": "228091a6-42e3-4c9c-dffe-78a96a3dd6cc"
      },
      "execution_count": 21,
      "outputs": [
        {
          "output_type": "stream",
          "name": "stdout",
          "text": [
            "Cloning into 'AIUPred'...\n",
            "remote: Enumerating objects: 111, done.\u001b[K\n",
            "remote: Counting objects: 100% (43/43), done.\u001b[K\n",
            "remote: Compressing objects: 100% (31/31), done.\u001b[K\n",
            "remote: Total 111 (delta 25), reused 30 (delta 12), pack-reused 68 (from 1)\u001b[K\n",
            "Receiving objects: 100% (111/111), 71.60 MiB | 11.00 MiB/s, done.\n",
            "Resolving deltas: 100% (56/56), done.\n",
            "Updating files: 100% (14/14), done.\n",
            "/content/AIUPred/AIUPred/AIUPred\n",
            "\u001b[31mERROR: Could not find a version that satisfies the requirement torch~=2.0.1 (from versions: 2.2.0, 2.2.1, 2.2.2, 2.3.0, 2.3.1, 2.4.0, 2.4.1, 2.5.0, 2.5.1, 2.6.0, 2.7.0, 2.7.1, 2.8.0)\u001b[0m\u001b[31m\n",
            "\u001b[0m\u001b[31mERROR: No matching distribution found for torch~=2.0.1\u001b[0m\u001b[31m\n",
            "\u001b[0mRequirement already satisfied: numpy in /usr/local/lib/python3.12/dist-packages (2.0.2)\n",
            "Requirement already satisfied: scipy in /usr/local/lib/python3.12/dist-packages (1.16.1)\n",
            "Requirement already satisfied: matplotlib in /usr/local/lib/python3.12/dist-packages (3.10.0)\n",
            "Requirement already satisfied: seaborn in /usr/local/lib/python3.12/dist-packages (0.13.2)\n",
            "Requirement already satisfied: pandas in /usr/local/lib/python3.12/dist-packages (2.2.2)\n",
            "Requirement already satisfied: contourpy>=1.0.1 in /usr/local/lib/python3.12/dist-packages (from matplotlib) (1.3.3)\n",
            "Requirement already satisfied: cycler>=0.10 in /usr/local/lib/python3.12/dist-packages (from matplotlib) (0.12.1)\n",
            "Requirement already satisfied: fonttools>=4.22.0 in /usr/local/lib/python3.12/dist-packages (from matplotlib) (4.59.2)\n",
            "Requirement already satisfied: kiwisolver>=1.3.1 in /usr/local/lib/python3.12/dist-packages (from matplotlib) (1.4.9)\n",
            "Requirement already satisfied: packaging>=20.0 in /usr/local/lib/python3.12/dist-packages (from matplotlib) (25.0)\n",
            "Requirement already satisfied: pillow>=8 in /usr/local/lib/python3.12/dist-packages (from matplotlib) (11.3.0)\n",
            "Requirement already satisfied: pyparsing>=2.3.1 in /usr/local/lib/python3.12/dist-packages (from matplotlib) (3.2.3)\n",
            "Requirement already satisfied: python-dateutil>=2.7 in /usr/local/lib/python3.12/dist-packages (from matplotlib) (2.9.0.post0)\n",
            "Requirement already satisfied: pytz>=2020.1 in /usr/local/lib/python3.12/dist-packages (from pandas) (2025.2)\n",
            "Requirement already satisfied: tzdata>=2022.7 in /usr/local/lib/python3.12/dist-packages (from pandas) (2025.2)\n",
            "Requirement already satisfied: six>=1.5 in /usr/local/lib/python3.12/dist-packages (from python-dateutil>=2.7->matplotlib) (1.17.0)\n"
          ]
        }
      ]
    },
    {
      "cell_type": "code",
      "source": [
        "# # Test some well-characterized IDPs\n",
        "# known_idps = [\n",
        "#     \"MKTAYAIILQGQTQSSDILYQYLRNSAAKQASGVNQEPKPNKGTKVLDNVMAKATGKVRQGLEDLPPKSVSAENVQPGCV\",  # p53 TAD\n",
        "#     \"MADQLTEEQIAEFKEAFSLFDKDGDGTITTKELGTVMRSLGQNPTEAELQDMINEVDADGNGTIDFPEFLTMMARKMKDT\",  # Calmodulin\n",
        "#     # Add more known IDPs\n",
        "# ]\n",
        "\n",
        "# for idp_seq in known_idps:\n",
        "#     _, mean_score = get_esm2_likelihood(idp_seq)\n",
        "#     print(f\"IDP: {mean_score}\")"
      ],
      "metadata": {
        "id": "3XjLJ42qx1KY"
      },
      "execution_count": 22,
      "outputs": []
    },
    {
      "cell_type": "code",
      "source": [
        "import random\n",
        "import pandas as pd\n",
        "import numpy as np\n",
        "import sparrow\n",
        "from sparrow.predictors.batch_predict import batch_predict\n",
        "import aiupred_lib  # Added missing import\n",
        "\n",
        "class Sequence:\n",
        "    aa = ['A','C','D','E','F','G','H','I','K','L','M','N','P','Q','R','S','T','V','W','Y']\n",
        "\n",
        "    def __init__(self, start_seq, masked_seq, boundaries, scaling_exp, scaling_rg, mask_char='X', length=None, pH=7.):\n",
        "        assert start_seq is not None or length is not None, \"Either initialize a starting sequence or specify a sequence length so that a random sequence is initialized!\"\n",
        "        self.pH = pH\n",
        "        self.boundaries = boundaries\n",
        "        self.masked_seq = masked_seq\n",
        "        self.start_seq = start_seq\n",
        "        if start_seq is None and length is not None:\n",
        "            self.sequence = random.choices(self.aa, k=length)\n",
        "        else:\n",
        "            self.sequence = list(masked_seq)\n",
        "\n",
        "        self.mask_char = mask_char\n",
        "\n",
        "        masked_count = self.sequence.count(mask_char)\n",
        "        self.length = len(self.sequence) - masked_count\n",
        "        self.scaling_exp = scaling_exp\n",
        "        self.scaling_rg = scaling_rg\n",
        "        assert not (self.scaling_exp and self.scaling_rg), \"Only one scaling can be used! Both cannot be True.\"\n",
        "\n",
        "    def get_sequence(self):\n",
        "        return ''.join(self.sequence)\n",
        "\n",
        "    def mutate(self, mode):\n",
        "        if mode == 'single_point':\n",
        "            # Find all positions that are not 'X'\n",
        "            valid_positions = [i for i, char in enumerate(self.sequence) if char != self.mask_char]\n",
        "            if valid_positions:\n",
        "                pos = random.choice(valid_positions)\n",
        "                self.sequence[pos] = random.choices(self.aa, k=1)[0]\n",
        "        elif mode == 'swap_full':\n",
        "            # Find all positions that are not 'X'\n",
        "            valid_positions = [i for i, char in enumerate(self.sequence) if char != self.mask_char]\n",
        "            if len(valid_positions) >= 2:\n",
        "                a, b = random.sample(valid_positions, 2)\n",
        "                self.sequence[b], self.sequence[a] = self.sequence[a], self.sequence[b]\n",
        "        elif mode == 'swap_expr':\n",
        "            # Find all positions that are not 'X' (excluding position 0)\n",
        "            valid_positions = [i for i, char in enumerate(self.sequence[1:], 1) if char != self.mask_char]\n",
        "            if len(valid_positions) >= 2:\n",
        "                a, b = random.sample(valid_positions, 2)\n",
        "                self.sequence[b], self.sequence[a] = self.sequence[a], self.sequence[b]\n",
        "\n",
        "    def get_nu(self, sequence):\n",
        "        if self.scaling_rg:\n",
        "            val_predictions = batch_predict([sequence], return_seq2prediction=True, network=\"scaled_rg\")\n",
        "        elif self.scaling_exp:\n",
        "            val_predictions = batch_predict([sequence], return_seq2prediction=True, network=\"scaling_exponent\")\n",
        "        else:\n",
        "            raise ValueError(\"Either scaling_rg or scaling_exp must be True\")\n",
        "        # Extract the single value from the dict_values object\n",
        "        return list(val_predictions.values())[0]\n",
        "\n",
        "class SimulatedAnnealing(Sequence):\n",
        "    def __init__(self, start_seq, masked_seq, boundaries, scaling_exp, scaling_rg,\n",
        "                 mutation_mode, target_compaction, original_disorder, disorder_weight=0.3,\n",
        "                 compaction_weight=0.7,\n",
        "                 c=0.003, gamma=0.01,  tolerance=0.01, mask_char='X', pH=7.):\n",
        "        # Initialize parent class with all required parameters\n",
        "        super().__init__(start_seq, masked_seq, boundaries, scaling_exp, scaling_rg,\n",
        "                        mask_char=mask_char, pH=pH)\n",
        "        self.embedding_model, self.regression_model, self.device = aiupred_lib.init_models('disorder')\n",
        "\n",
        "        # Set weights BEFORE calling fitness_function\n",
        "        self.disorder_weight = disorder_weight\n",
        "        self.compaction_weight = compaction_weight\n",
        "        self.gamma = gamma\n",
        "        # Current state - start with the original sequence\n",
        "        self.sequence = list(start_seq)  # Start with original, not masked\n",
        "        self.current_fitness = self.fitness_function_adaptive(start_seq, original_disorder, target_compaction)\n",
        "        self.best_sequence = self.sequence.copy()\n",
        "        self.best_fitness = self.current_fitness\n",
        "        self.current_nu = self.get_nu(self.get_sequence())\n",
        "\n",
        "        # Parameters\n",
        "        self.mode = mutation_mode\n",
        "        self.target_compaction = target_compaction\n",
        "        self.original_disorder = original_disorder\n",
        "        self.tolerance = tolerance\n",
        "        self.c = c\n",
        "        self.step_count = 0\n",
        "\n",
        "\n",
        "        # Optional: track history\n",
        "        self.history = []\n",
        "        self.accepted_moves = 0\n",
        "        self.converged = False\n",
        "\n",
        "    def fitness_function(self, sequence, original_disorder, target_compaction):\n",
        "        \"\"\"\n",
        "        Calculate fitness function combining compaction and disorder preservation.\n",
        "        Returns a value between 0 and 1, where 1 is optimal.\n",
        "        \"\"\"\n",
        "        # Compaction fitness (0-1 scale)\n",
        "        compaction_score = self.get_nu(sequence)\n",
        "        compaction_deviation = abs(compaction_score - target_compaction)\n",
        "        compaction_fitness = max(0.0, 1.0 - compaction_deviation / target_compaction)\n",
        "\n",
        "        # Disorder fitness - use Mean Squared Error instead of mutual_info_score\n",
        "        try:\n",
        "            current_disorder = aiupred_lib.predict_disorder(sequence, self.embedding_model,\n",
        "                                                          self.regression_model, self.device)\n",
        "\n",
        "            # Calculate MSE between disorder predictions\n",
        "            mse = np.mean((np.array(original_disorder) - np.array(current_disorder))**2)\n",
        "\n",
        "            # Option 1: Exponential decay (recommended)\n",
        "            # This naturally bounds the fitness between 0 and 1, with steeper penalty for higher MSE\n",
        "            disorder_fitness = np.exp(-mse * 10)  # Scale factor of 10 can be adjusted\n",
        "\n",
        "\n",
        "        except Exception as e:\n",
        "            print(f\"Error calculating disorder: {e}\")\n",
        "            disorder_fitness = 0.0\n",
        "\n",
        "\n",
        "        _, mean_fitness= get_esm2_likelihood(sequence)\n",
        "        print(mean_fitness)\n",
        "\n",
        "        # Combine fitnesses\n",
        "        total_fitness = self.compaction_weight * compaction_fitness + self.disorder_weight * disorder_fitness\n",
        "        return total_fitness\n",
        "\n",
        "    import math\n",
        "\n",
        "\n",
        "    def esm2_penalty(self,  esm2_mean_log_prob, threshold=-0.5, steepness=10):\n",
        "    # Smooth penalty that kicks in below threshold\n",
        "        return (1 / (1 + math.exp(steepness * (esm2_mean_log_prob - threshold))))\n",
        "\n",
        "\n",
        "    def fitness_function_adaptive(self, sequence, original_disorder, target_compaction):\n",
        "        \"\"\"\n",
        "        Adaptive version that tracks MSE statistics over time.\n",
        "        \"\"\"\n",
        "    # Initialize MSE tracking if not exists\n",
        "        if not hasattr(self, 'mse_history'):\n",
        "            self.mse_history = []\n",
        "            self.mse_percentile_95 = 0.25  # Initial estimate\n",
        "\n",
        "\n",
        "        compaction_score = self.get_nu(sequence)\n",
        "\n",
        "        compaction_deviation = abs(compaction_score - target_compaction)\n",
        "        compaction_fitness = max(0.0, 1.0 - compaction_deviation / target_compaction)\n",
        "\n",
        "\n",
        "        try:\n",
        "            current_disorder = aiupred_lib.predict_disorder(sequence, self.embedding_model,\n",
        "                                                      self.regression_model, self.device)\n",
        "\n",
        "\n",
        "            mse = np.mean((np.array(original_disorder) - np.array(current_disorder))**2)\n",
        "\n",
        "\n",
        "            self.mse_history.append(mse)\n",
        "\n",
        "\n",
        "            if len(self.mse_history) % 100 == 0 and len(self.mse_history) > 10:\n",
        "                self.mse_percentile_95 = np.percentile(self.mse_history, 95)\n",
        "\n",
        "\n",
        "            disorder_fitness = max(0.0, 1.0 - mse / self.mse_percentile_95)\n",
        "\n",
        "        except Exception as e:\n",
        "            print(f\"Error calculating disorder: {e}\")\n",
        "            disorder_fitness = 0.0\n",
        "        # _, mean = get_esm2_likelihood(sequence)\n",
        "        total_fitness = self.compaction_weight * compaction_fitness + self.disorder_weight * disorder_fitness\n",
        "\n",
        "        return total_fitness\n",
        "    def distance_from_target(self):\n",
        "        \"\"\"Calculate distance from target compaction\"\"\"\n",
        "        current_nu = self.get_nu(''.join(self.best_sequence))\n",
        "        return abs(current_nu - self.target_compaction)\n",
        "\n",
        "    def mutate(self, mode):\n",
        "        \"\"\"Override to ensure mutations only happen in non-masked positions\"\"\"\n",
        "        if mode == 'single_point':\n",
        "            # Find all positions that are mutable (not protected by mask)\n",
        "            valid_positions = []\n",
        "            for i, char in enumerate(self.masked_seq):\n",
        "                if char != self.mask_char:  # This position is mutable\n",
        "                    valid_positions.append(i)\n",
        "\n",
        "            if valid_positions:\n",
        "                pos = random.choice(valid_positions)\n",
        "                self.sequence[pos] = random.choice(self.aa)\n",
        "\n",
        "        elif mode == 'swap_full':\n",
        "            # Find all mutable positions\n",
        "            valid_positions = []\n",
        "            for i, char in enumerate(self.masked_seq):\n",
        "                if char != self.mask_char:\n",
        "                    valid_positions.append(i)\n",
        "\n",
        "            if len(valid_positions) >= 2:\n",
        "                a, b = random.sample(valid_positions, 2)\n",
        "                self.sequence[b], self.sequence[a] = self.sequence[a], self.sequence[b]\n",
        "\n",
        "        elif mode == 'swap_expr':\n",
        "            # Find all mutable positions (excluding position 0)\n",
        "            valid_positions = []\n",
        "            for i, char in enumerate(self.masked_seq[1:], 1):\n",
        "                if char != self.mask_char:\n",
        "                    valid_positions.append(i)\n",
        "\n",
        "            if len(valid_positions) >= 2:\n",
        "                a, b = random.sample(valid_positions, 2)\n",
        "                self.sequence[b], self.sequence[a] = self.sequence[a], self.sequence[b]\n",
        "\n",
        "    def step(self):\n",
        "        # Check if already converged\n",
        "        if self.converged:\n",
        "            return False\n",
        "\n",
        "        # Store current state\n",
        "        old_sequence = self.sequence.copy()\n",
        "        old_fitness = self.current_fitness\n",
        "\n",
        "        # Propose new state\n",
        "        self.mutate(mode=self.mode)\n",
        "        new_fitness = self.fitness_function(self.get_sequence(), self.original_disorder, self.target_compaction)\n",
        "\n",
        "        # Calculate energy difference (fitness difference, but inverted for minimization)\n",
        "        delta_E = old_fitness - new_fitness\n",
        "\n",
        "        # Accept or reject\n",
        "        accept = False\n",
        "        if delta_E <= 0:  # Better solution (higher fitness)\n",
        "            accept = True\n",
        "        else:  # Worse solution - accept with probability\n",
        "            probability = np.exp(-delta_E / self.c)\n",
        "            accept = probability > random.random()\n",
        "\n",
        "        if accept:\n",
        "            # Keep the new state\n",
        "            self.current_fitness = new_fitness\n",
        "            self.accepted_moves += 1\n",
        "\n",
        "            # Track best solution found\n",
        "            if new_fitness > self.best_fitness:\n",
        "                self.best_sequence = self.sequence.copy()\n",
        "                self.best_fitness = new_fitness\n",
        "        else:\n",
        "            # Reject - revert to old state\n",
        "            self.sequence = old_sequence\n",
        "            self.current_fitness = old_fitness\n",
        "\n",
        "        # Check for convergence - use distance from target instead of absolute fitness\n",
        "        target_distance = self.distance_from_target()\n",
        "        if target_distance <= self.tolerance:\n",
        "            self.converged = True\n",
        "\n",
        "        # Update step count and temperature\n",
        "        self.step_count += 1\n",
        "        if self.step_count % (self.length * 2) == 0:\n",
        "            self.c = self.c * 0.99\n",
        "\n",
        "        # Optional: record history (lightweight)\n",
        "        self.history.append({\n",
        "            'step': self.step_count,\n",
        "            'fitness': self.current_fitness,\n",
        "            'best_fitness': self.best_fitness,\n",
        "            'target_distance': target_distance,\n",
        "            'current_nu': self.get_nu(self.get_sequence()),\n",
        "            'accepted': accept,\n",
        "            'temperature': self.c\n",
        "        })\n",
        "\n",
        "        # Print progress occasionally\n",
        "        if self.step_count % 1000 == 0:\n",
        "            current_nu = self.get_nu(''.join(self.best_sequence))\n",
        "            print(f\"Step {self.step_count}: Best fitness={self.best_fitness:.4f}, \"\n",
        "                  f\"Current ν={current_nu:.4f}, Target={self.target_compaction}, \"\n",
        "                  f\"Distance={target_distance:.4f}\")\n",
        "\n",
        "        return not self.converged\n",
        "\n",
        "    def run(self, max_steps=None):\n",
        "        \"\"\"Run the simulated annealing until convergence or max_steps\"\"\"\n",
        "        step = 0\n",
        "        while True:\n",
        "            if max_steps is not None and step >= max_steps:\n",
        "                print(f\"Stopped after {max_steps} steps (max_steps reached)\")\n",
        "                break\n",
        "\n",
        "            if not self.step():  # Returns False when converged\n",
        "                print(f\"Converged after {self.step_count} steps! Distance from target: {self.distance_from_target():.6f}\")\n",
        "                break\n",
        "\n",
        "            step += 1\n",
        "\n",
        "    def run_until_target(self, max_steps=10000):\n",
        "        \"\"\"Run specifically until target is reached or max_steps\"\"\"\n",
        "        return self.run(max_steps)\n",
        "\n",
        "    def is_converged(self):\n",
        "        \"\"\"Check if the algorithm has converged\"\"\"\n",
        "        return self.converged\n",
        "\n",
        "    def fitness_score(self):\n",
        "        \"\"\"Return current best fitness score\"\"\"\n",
        "        return self.best_fitness\n",
        "\n",
        "    def get_best_solution(self):\n",
        "        \"\"\"Return the best solution found so far\"\"\"\n",
        "        return ''.join(self.best_sequence), self.best_fitness\n",
        "\n",
        "    def get_current_solution(self):\n",
        "        \"\"\"Return the current solution\"\"\"\n",
        "        return ''.join(self.sequence), self.current_fitness\n",
        "\n",
        "    def get_acceptance_rate(self):\n",
        "        \"\"\"Return the acceptance rate\"\"\"\n",
        "        if self.step_count == 0:\n",
        "            return 0\n",
        "        return self.accepted_moves / self.step_count\n",
        "\n",
        "    def get_history_df(self):\n",
        "        \"\"\"Return history as DataFrame\"\"\"\n",
        "        return pd.DataFrame(self.history)\n",
        "\n",
        "    def verify_motif_preservation(self):\n",
        "        \"\"\"Verify that protected motifs are unchanged\"\"\"\n",
        "        current_seq = self.get_sequence()\n",
        "        for i, (orig_char, mask_char) in enumerate(zip(self.start_seq, self.masked_seq)):\n",
        "            if mask_char == self.mask_char:  # This position should be protected\n",
        "                if current_seq[i] != orig_char:\n",
        "                    print(f\"WARNING: Protected position {i} changed from {orig_char} to {current_seq[i]}\")\n",
        "                    return False\n",
        "        return True\n",
        "\n",
        "\n"
      ],
      "metadata": {
        "id": "moiDZCk2QARF"
      },
      "execution_count": 28,
      "outputs": []
    },
    {
      "cell_type": "code",
      "source": [
        "import torch\n",
        "import esm\n",
        "\n",
        "# Load ESM-2 model\n",
        "model, alphabet = esm.pretrained.esm2_t33_650M_UR50D()\n",
        "# Alternative sizes: esm2_t30_150M_UR50D, esm2_t36_3B_UR50D\n",
        "batch_converter = alphabet.get_batch_converter()\n",
        "model.eval()\n",
        "\n",
        "def get_esm2_likelihood(sequence):\n",
        "    # Prepare sequence\n",
        "    data = [(\"protein\", sequence)]\n",
        "    batch_labels, batch_strs, batch_tokens = batch_converter(data)\n",
        "\n",
        "    with torch.no_grad():\n",
        "        # Get logits\n",
        "        results = model(batch_tokens, repr_layers=[33])\n",
        "        logits = results[\"logits\"]\n",
        "\n",
        "        # Calculate log probabilities\n",
        "        log_probs = torch.log_softmax(logits, dim=-1)\n",
        "\n",
        "        # Get sequence likelihood (excluding special tokens)\n",
        "        seq_tokens = batch_tokens[0, 1:-1]  # Remove <cls> and <eos>\n",
        "        token_log_probs = log_probs[0, 1:-1, :].gather(1, seq_tokens.unsqueeze(1))\n",
        "\n",
        "        # Sum log probabilities (or mean for per-position average)\n",
        "        total_log_prob = token_log_probs.sum().item()\n",
        "        mean_log_prob = token_log_probs.mean().item()\n",
        "\n",
        "    return total_log_prob, mean_log_prob"
      ],
      "metadata": {
        "id": "GWD78sOJsYny"
      },
      "execution_count": 24,
      "outputs": []
    },
    {
      "cell_type": "code",
      "source": [
        "\n",
        "\n",
        "\n",
        "def mask_sequence_with_boundaries(sequence, boundaries, buffer_size=3, mask_char='X'):\n",
        "    \"\"\"\n",
        "    Mask a protein sequence based on motif boundaries with optional buffer zones.\n",
        "\n",
        "    Parameters:\n",
        "    -----------\n",
        "    sequence : str\n",
        "        The protein sequence to mask\n",
        "    boundaries : dict\n",
        "        Dictionary with motif names as keys and (start, end) tuples as values\n",
        "        Positions should be 0-indexed, end is exclusive (Python slicing convention)\n",
        "    buffer_size : int, default=3\n",
        "        Number of residues to add as buffer on each side of motif\n",
        "    mask_char : str, default='X'\n",
        "        Character to use for masking protected regions\n",
        "\n",
        "    Returns:\n",
        "    --------\n",
        "    tuple: (masked_sequence, protected_positions)\n",
        "        masked_sequence: sequence with protected regions replaced by mask_char\n",
        "        protected_positions: set of all protected position indices\n",
        "    \"\"\"\n",
        "\n",
        "    # Create set to track all protected positions\n",
        "    protected_positions = set()\n",
        "\n",
        "    # Process each motif boundary\n",
        "    for motif_name, (start, end) in boundaries.items():\n",
        "        # Add buffer zones\n",
        "        buffered_start = max(0, start - buffer_size)\n",
        "        buffered_end = min(len(sequence), end + buffer_size)\n",
        "\n",
        "        # Add all positions in buffered region to protected set\n",
        "        for pos in range(buffered_start, buffered_end):\n",
        "            protected_positions.add(pos)\n",
        "\n",
        "        print(f\"Motif '{motif_name}': positions {start}-{end-1} \"\n",
        "              f\"-> protected {buffered_start}-{buffered_end-1}\")\n",
        "\n",
        "    # Create masked sequence\n",
        "    masked_sequence = \"\"\n",
        "    for i, aa in enumerate(sequence):\n",
        "        if i in protected_positions:\n",
        "            masked_sequence += mask_char\n",
        "        else:\n",
        "            masked_sequence += aa\n",
        "\n",
        "    # Print summary\n",
        "    total_positions = len(sequence)\n",
        "    protected_count = len(protected_positions)\n",
        "    mutable_count = total_positions - protected_count\n",
        "\n",
        "\n",
        "    return masked_sequence, protected_positions\n",
        "\n",
        "\n",
        "\n",
        "\n",
        "\n",
        "# def unmask_sequence_with_boundaries(original_sequence, masked_sequence, boundaries, buffer_size=3, mask_char='X'):\n",
        "#     \"\"\"\n",
        "#     Unmask a protein sequence by restoring original residues at protected positions.\n",
        "\n",
        "#     Parameters:\n",
        "#     -----------\n",
        "#     original_sequence : str\n",
        "#         The original protein sequence before masking\n",
        "#     masked_sequence : str\n",
        "#         The masked sequence (potentially after mutations)\n",
        "#     boundaries : dict\n",
        "#         Dictionary with motif names as keys and (start, end) tuples as values\n",
        "#         Positions should be 0-indexed, end is exclusive (Python slicing convention)\n",
        "#     buffer_size : int, default=3\n",
        "#         Number of residues that were added as buffer on each side of motif\n",
        "#     mask_char : str, default='X'\n",
        "#         Character that was used for masking protected regions\n",
        "\n",
        "#     Returns:\n",
        "#     --------\n",
        "#     tuple: (unmasked_sequence, restored_positions)\n",
        "#         unmasked_sequence: sequence with original residues restored at protected positions\n",
        "#         restored_positions: set of all position indices that were restored\n",
        "#     \"\"\"\n",
        "\n",
        "#     # Validate input sequences have same length\n",
        "#     if len(original_sequence) != len(masked_sequence):\n",
        "#         raise ValueError(f\"Sequence length mismatch: original={len(original_sequence)}, \"\n",
        "#                         f\"masked={len(masked_sequence)}\")\n",
        "\n",
        "#     # Create set to track all protected positions (same logic as masking)\n",
        "#     protected_positions = set()\n",
        "\n",
        "#     # Process each motif boundary\n",
        "#     for motif_name, (start, end) in boundaries.items():\n",
        "#         # Add buffer zones\n",
        "#         buffered_start = max(0, start - buffer_size)\n",
        "#         buffered_end = min(len(original_sequence), end + buffer_size)\n",
        "\n",
        "#         # Add all positions in buffered region to protected set\n",
        "#         for pos in range(buffered_start, buffered_end):\n",
        "#             protected_positions.add(pos)\n",
        "\n",
        "#         print(f\"Motif '{motif_name}': positions {start}-{end-1} \"\n",
        "#               f\"-> restoring {buffered_start}-{buffered_end-1}\")\n",
        "\n",
        "#     # Create unmasked sequence\n",
        "#     unmasked_sequence = \"\"\n",
        "#     restored_positions = set()\n",
        "\n",
        "#     for i, (original_aa, masked_aa) in enumerate(zip(original_sequence, masked_sequence)):\n",
        "#         if i in protected_positions:\n",
        "#             # Restore original amino acid at protected positions\n",
        "#             unmasked_sequence += original_aa\n",
        "#             if masked_aa != original_aa:  # Track positions that actually changed\n",
        "#                 restored_positions.add(i)\n",
        "#         else:\n",
        "#             # Keep the (potentially mutated) amino acid at mutable positions\n",
        "#             unmasked_sequence += masked_aa\n",
        "\n",
        "#     # Print summary\n",
        "#     total_positions = len(original_sequence)\n",
        "#     protected_count = len(protected_positions)\n",
        "#     restored_count = len(restored_positions)\n",
        "#     mutable_count = total_positions - protected_count\n",
        "\n",
        "\n",
        "#     return unmasked_sequence, restored_positions\n",
        "\n"
      ],
      "metadata": {
        "id": "Uw_5pzQjxvyr"
      },
      "execution_count": 25,
      "outputs": []
    },
    {
      "cell_type": "code",
      "source": [
        "\n",
        "mutation_mode = 'single_point'\n",
        "target = 0.3#@param {type:\"number\"}\n",
        "start_seq = \"VLTKTKYTHYYGKKKNKRIGRPPGGHSNLACALKKASKRRKRRKNVFVHKKKRSSASVDNTPAGSPQGSGGEDEDDPDEGDDDSLSEGSTSEQQDELQEESEMSEKKSCSSSPTQSEISTSLPPDRQRRKRELRTFSFSDDENKPPSPKEIRIEVAERLHLD\"#@param {type:\"string\"}\n",
        "pH = 7.0\n",
        "tolerance = .01#@param {type:\"number\"}\n",
        "scaling_exp = True#@param {type:\"boolean\"}\n",
        "scaling_rg = False#@param {type:\"boolean\"}\n",
        "buffer_size = 2#@param {type:\"number\"}\n",
        "esm2_likelihood_penalty= 0.01#@param {type:\"number\"}\n",
        "boundaries = {\n",
        "        \"MOD_GSK3_1_1\":(54,61),\n",
        "        \"MOD_GSK3_1\":(83,90),\n",
        "        \"MOD_GSK3_1_2\":(132,139)\n",
        "}\n",
        "\n",
        "\n",
        "print(f\"Input sequence length: {len(start_seq)}\")\n",
        "# print(get_esm2_likelihood(start_seq))\n",
        "masked_seq, _ = mask_sequence_with_boundaries(start_seq, boundaries, buffer_size=buffer_size)\n",
        "\n",
        "embedding_model, regression_model, device = aiupred_lib.init_models('disorder')\n",
        "\n",
        "\n",
        "original_disorder= aiupred_lib.predict_disorder(start_seq, embedding_model, regression_model, device)\n",
        "\n",
        "\n",
        "\n",
        "sa = SimulatedAnnealing(\n",
        "        start_seq=start_seq,\n",
        "        masked_seq=masked_seq,\n",
        "        boundaries=boundaries,\n",
        "        scaling_exp=scaling_exp,\n",
        "        scaling_rg=scaling_rg,\n",
        "        mutation_mode=mutation_mode,\n",
        "        target_compaction=target,\n",
        "        original_disorder=original_disorder,\n",
        "        compaction_weight=0.7,\n",
        "        disorder_weight=0.3,\n",
        "        c=0.003,\n",
        "        gamma=esm2_likelihood_penalty,\n",
        "        tolerance=tolerance,\n",
        "        pH=pH\n",
        "    )\n",
        "\n",
        "print(f\"Starting sequence: {sa.get_sequence()}\")\n",
        "print(f\"Starting nu: {sa.current_nu}\")\n",
        "\n",
        "sa.run_until_target()\n",
        "print(sa.get_nu(sa.get_sequence()))\n",
        "\n",
        "print(f\"Best distance achieved: {sa.distance_from_target():.6f}\")\n",
        "print(f\"Best sequence: {sa.get_best_solution()}\")"
      ],
      "metadata": {
        "id": "tQ7SWMvuR6MN",
        "outputId": "48806568-3fca-429a-f6ae-3b6b6ea59eca",
        "colab": {
          "base_uri": "https://localhost:8080/"
        }
      },
      "execution_count": 29,
      "outputs": [
        {
          "output_type": "stream",
          "name": "stdout",
          "text": [
            "Input sequence length: 162\n",
            "Motif 'MOD_GSK3_1_1': positions 54-60 -> protected 52-62\n",
            "Motif 'MOD_GSK3_1': positions 83-89 -> protected 81-91\n",
            "Motif 'MOD_GSK3_1_2': positions 132-138 -> protected 130-140\n"
          ]
        },
        {
          "output_type": "stream",
          "name": "stderr",
          "text": [
            "100%|██████████| 1/1 [00:00<00:00, 412.42it/s]\n",
            "100%|██████████| 1/1 [00:00<00:00, 321.25it/s]\n"
          ]
        },
        {
          "output_type": "stream",
          "name": "stdout",
          "text": [
            "Starting sequence: VLTKTKYTHYYGKKKNKRIGRPPGGHSNLACALKKASKRRKRRKNVFVHKKKRSSASVDNTPAGSPQGSGGEDEDDPDEGDDDSLSEGSTSEQQDELQEESEMSEKKSCSSSPTQSEISTSLPPDRQRRKRELRTFSFSDDENKPPSPKEIRIEVAERLHLD\n",
            "Starting nu: 0.434137225151062\n"
          ]
        },
        {
          "output_type": "stream",
          "name": "stderr",
          "text": [
            "100%|██████████| 1/1 [00:00<00:00, 413.52it/s]\n"
          ]
        },
        {
          "output_type": "stream",
          "name": "stdout",
          "text": [
            "-0.4207703471183777\n"
          ]
        },
        {
          "output_type": "stream",
          "name": "stderr",
          "text": [
            "100%|██████████| 1/1 [00:00<00:00, 80.17it/s]\n",
            "100%|██████████| 1/1 [00:00<00:00, 148.64it/s]\n",
            "100%|██████████| 1/1 [00:00<00:00, 363.87it/s]\n"
          ]
        },
        {
          "output_type": "stream",
          "name": "stdout",
          "text": [
            "-0.41368743777275085\n"
          ]
        },
        {
          "output_type": "stream",
          "name": "stderr",
          "text": [
            "100%|██████████| 1/1 [00:00<00:00, 381.58it/s]\n",
            "100%|██████████| 1/1 [00:00<00:00, 404.43it/s]\n",
            "100%|██████████| 1/1 [00:00<00:00, 425.95it/s]\n"
          ]
        },
        {
          "output_type": "stream",
          "name": "stdout",
          "text": [
            "-0.4146534502506256\n"
          ]
        },
        {
          "output_type": "stream",
          "name": "stderr",
          "text": [
            "100%|██████████| 1/1 [00:00<00:00, 391.37it/s]\n",
            "100%|██████████| 1/1 [00:00<00:00, 420.02it/s]\n",
            "100%|██████████| 1/1 [00:00<00:00, 451.00it/s]\n"
          ]
        },
        {
          "output_type": "stream",
          "name": "stdout",
          "text": [
            "-0.41236287355422974\n"
          ]
        },
        {
          "output_type": "stream",
          "name": "stderr",
          "text": [
            "100%|██████████| 1/1 [00:00<00:00, 374.19it/s]\n",
            "100%|██████████| 1/1 [00:00<00:00, 442.02it/s]\n",
            "100%|██████████| 1/1 [00:00<00:00, 441.46it/s]\n"
          ]
        },
        {
          "output_type": "stream",
          "name": "stdout",
          "text": [
            "-0.4087924659252167\n"
          ]
        },
        {
          "output_type": "stream",
          "name": "stderr",
          "text": [
            "100%|██████████| 1/1 [00:00<00:00, 344.61it/s]\n",
            "100%|██████████| 1/1 [00:00<00:00, 382.48it/s]\n",
            "100%|██████████| 1/1 [00:00<00:00, 427.03it/s]\n"
          ]
        },
        {
          "output_type": "stream",
          "name": "stdout",
          "text": [
            "-0.41556450724601746\n"
          ]
        },
        {
          "output_type": "stream",
          "name": "stderr",
          "text": [
            "100%|██████████| 1/1 [00:00<00:00, 428.78it/s]\n",
            "100%|██████████| 1/1 [00:00<00:00, 415.03it/s]\n",
            "100%|██████████| 1/1 [00:00<00:00, 362.70it/s]\n"
          ]
        },
        {
          "output_type": "stream",
          "name": "stdout",
          "text": [
            "-0.4182363450527191\n"
          ]
        },
        {
          "output_type": "stream",
          "name": "stderr",
          "text": [
            "100%|██████████| 1/1 [00:00<00:00, 347.15it/s]\n",
            "100%|██████████| 1/1 [00:00<00:00, 346.44it/s]\n",
            "100%|██████████| 1/1 [00:00<00:00, 366.54it/s]\n"
          ]
        },
        {
          "output_type": "stream",
          "name": "stdout",
          "text": [
            "-0.41514211893081665\n"
          ]
        },
        {
          "output_type": "stream",
          "name": "stderr",
          "text": [
            "100%|██████████| 1/1 [00:00<00:00, 386.25it/s]\n",
            "100%|██████████| 1/1 [00:00<00:00, 392.36it/s]\n",
            "100%|██████████| 1/1 [00:00<00:00, 432.67it/s]\n"
          ]
        },
        {
          "output_type": "stream",
          "name": "stdout",
          "text": [
            "-0.41225481033325195\n"
          ]
        },
        {
          "output_type": "stream",
          "name": "stderr",
          "text": [
            "100%|██████████| 1/1 [00:00<00:00, 337.14it/s]\n",
            "100%|██████████| 1/1 [00:00<00:00, 436.77it/s]\n",
            "100%|██████████| 1/1 [00:00<00:00, 383.08it/s]\n"
          ]
        },
        {
          "output_type": "stream",
          "name": "stdout",
          "text": [
            "-0.41313105821609497\n"
          ]
        },
        {
          "output_type": "stream",
          "name": "stderr",
          "text": [
            "100%|██████████| 1/1 [00:00<00:00, 382.55it/s]\n",
            "100%|██████████| 1/1 [00:00<00:00, 354.70it/s]\n",
            "100%|██████████| 1/1 [00:00<00:00, 351.93it/s]\n"
          ]
        },
        {
          "output_type": "stream",
          "name": "stdout",
          "text": [
            "-0.4157075881958008\n"
          ]
        },
        {
          "output_type": "stream",
          "name": "stderr",
          "text": [
            "100%|██████████| 1/1 [00:00<00:00, 299.44it/s]\n",
            "100%|██████████| 1/1 [00:00<00:00, 296.94it/s]\n",
            "100%|██████████| 1/1 [00:00<00:00, 224.23it/s]\n"
          ]
        },
        {
          "output_type": "stream",
          "name": "stdout",
          "text": [
            "-0.4132886230945587\n"
          ]
        },
        {
          "output_type": "stream",
          "name": "stderr",
          "text": [
            "100%|██████████| 1/1 [00:00<00:00, 411.89it/s]\n",
            "100%|██████████| 1/1 [00:00<00:00, 428.60it/s]\n",
            "100%|██████████| 1/1 [00:00<00:00, 419.85it/s]\n"
          ]
        },
        {
          "output_type": "stream",
          "name": "stdout",
          "text": [
            "-0.42357781529426575\n"
          ]
        },
        {
          "output_type": "stream",
          "name": "stderr",
          "text": [
            "100%|██████████| 1/1 [00:00<00:00, 364.22it/s]\n",
            "100%|██████████| 1/1 [00:00<00:00, 442.34it/s]\n",
            "100%|██████████| 1/1 [00:00<00:00, 305.20it/s]\n"
          ]
        },
        {
          "output_type": "stream",
          "name": "stdout",
          "text": [
            "-0.41990190744400024\n"
          ]
        },
        {
          "output_type": "stream",
          "name": "stderr",
          "text": [
            "100%|██████████| 1/1 [00:00<00:00, 391.95it/s]\n",
            "100%|██████████| 1/1 [00:00<00:00, 439.42it/s]\n",
            "100%|██████████| 1/1 [00:00<00:00, 453.29it/s]\n"
          ]
        },
        {
          "output_type": "stream",
          "name": "stdout",
          "text": [
            "-0.437578409910202\n"
          ]
        },
        {
          "output_type": "stream",
          "name": "stderr",
          "text": [
            "100%|██████████| 1/1 [00:00<00:00, 383.15it/s]\n",
            "100%|██████████| 1/1 [00:00<00:00, 419.89it/s]\n",
            "100%|██████████| 1/1 [00:00<00:00, 433.39it/s]\n"
          ]
        },
        {
          "output_type": "stream",
          "name": "stdout",
          "text": [
            "-0.43725401163101196\n"
          ]
        },
        {
          "output_type": "stream",
          "name": "stderr",
          "text": [
            "100%|██████████| 1/1 [00:00<00:00, 368.60it/s]\n",
            "100%|██████████| 1/1 [00:00<00:00, 408.20it/s]\n",
            "100%|██████████| 1/1 [00:00<00:00, 434.46it/s]\n"
          ]
        },
        {
          "output_type": "stream",
          "name": "stdout",
          "text": [
            "-0.4422200620174408\n"
          ]
        },
        {
          "output_type": "stream",
          "name": "stderr",
          "text": [
            "100%|██████████| 1/1 [00:00<00:00, 323.09it/s]\n",
            "100%|██████████| 1/1 [00:00<00:00, 442.67it/s]\n",
            "100%|██████████| 1/1 [00:00<00:00, 438.87it/s]\n"
          ]
        },
        {
          "output_type": "stream",
          "name": "stdout",
          "text": [
            "-0.44261646270751953\n"
          ]
        },
        {
          "output_type": "stream",
          "name": "stderr",
          "text": [
            "100%|██████████| 1/1 [00:00<00:00, 392.91it/s]\n",
            "100%|██████████| 1/1 [00:00<00:00, 435.32it/s]\n",
            "100%|██████████| 1/1 [00:00<00:00, 426.21it/s]\n"
          ]
        },
        {
          "output_type": "stream",
          "name": "stdout",
          "text": [
            "-0.4513097107410431\n"
          ]
        },
        {
          "output_type": "stream",
          "name": "stderr",
          "text": [
            "100%|██████████| 1/1 [00:00<00:00, 371.90it/s]\n",
            "100%|██████████| 1/1 [00:00<00:00, 228.06it/s]\n",
            "100%|██████████| 1/1 [00:00<00:00, 270.86it/s]\n"
          ]
        },
        {
          "output_type": "stream",
          "name": "stdout",
          "text": [
            "-0.43811407685279846\n"
          ]
        },
        {
          "output_type": "stream",
          "name": "stderr",
          "text": [
            "100%|██████████| 1/1 [00:00<00:00, 390.60it/s]\n",
            "100%|██████████| 1/1 [00:00<00:00, 423.75it/s]\n",
            "100%|██████████| 1/1 [00:00<00:00, 421.58it/s]\n"
          ]
        },
        {
          "output_type": "stream",
          "name": "stdout",
          "text": [
            "-0.47515276074409485\n"
          ]
        },
        {
          "output_type": "stream",
          "name": "stderr",
          "text": [
            "100%|██████████| 1/1 [00:00<00:00, 320.57it/s]\n",
            "100%|██████████| 1/1 [00:00<00:00, 440.44it/s]\n",
            "100%|██████████| 1/1 [00:00<00:00, 431.51it/s]\n"
          ]
        },
        {
          "output_type": "stream",
          "name": "stdout",
          "text": [
            "-0.47581660747528076\n"
          ]
        },
        {
          "output_type": "stream",
          "name": "stderr",
          "text": [
            "100%|██████████| 1/1 [00:00<00:00, 287.73it/s]\n",
            "100%|██████████| 1/1 [00:00<00:00, 431.65it/s]\n",
            "100%|██████████| 1/1 [00:00<00:00, 435.09it/s]\n"
          ]
        },
        {
          "output_type": "stream",
          "name": "stdout",
          "text": [
            "-0.47514668107032776\n"
          ]
        },
        {
          "output_type": "stream",
          "name": "stderr",
          "text": [
            "100%|██████████| 1/1 [00:00<00:00, 379.68it/s]\n",
            "100%|██████████| 1/1 [00:00<00:00, 412.99it/s]\n",
            "100%|██████████| 1/1 [00:00<00:00, 412.66it/s]\n"
          ]
        },
        {
          "output_type": "stream",
          "name": "stdout",
          "text": [
            "-0.4794253706932068\n"
          ]
        },
        {
          "output_type": "stream",
          "name": "stderr",
          "text": [
            "100%|██████████| 1/1 [00:00<00:00, 312.94it/s]\n",
            "100%|██████████| 1/1 [00:00<00:00, 418.22it/s]\n",
            "100%|██████████| 1/1 [00:00<00:00, 341.44it/s]\n"
          ]
        },
        {
          "output_type": "stream",
          "name": "stdout",
          "text": [
            "-0.48322033882141113\n"
          ]
        },
        {
          "output_type": "stream",
          "name": "stderr",
          "text": [
            "100%|██████████| 1/1 [00:00<00:00, 373.96it/s]\n",
            "100%|██████████| 1/1 [00:00<00:00, 383.85it/s]\n",
            "100%|██████████| 1/1 [00:00<00:00, 373.89it/s]\n"
          ]
        },
        {
          "output_type": "stream",
          "name": "stdout",
          "text": [
            "-0.4684516191482544\n"
          ]
        },
        {
          "output_type": "stream",
          "name": "stderr",
          "text": [
            "100%|██████████| 1/1 [00:00<00:00, 412.30it/s]\n",
            "100%|██████████| 1/1 [00:00<00:00, 453.88it/s]\n",
            "100%|██████████| 1/1 [00:00<00:00, 459.40it/s]\n"
          ]
        },
        {
          "output_type": "stream",
          "name": "stdout",
          "text": [
            "-0.4566798210144043\n"
          ]
        },
        {
          "output_type": "stream",
          "name": "stderr",
          "text": [
            "100%|██████████| 1/1 [00:00<00:00, 345.18it/s]\n",
            "100%|██████████| 1/1 [00:00<00:00, 344.53it/s]\n",
            "100%|██████████| 1/1 [00:00<00:00, 372.93it/s]\n"
          ]
        },
        {
          "output_type": "stream",
          "name": "stdout",
          "text": [
            "-0.45259037613868713\n"
          ]
        },
        {
          "output_type": "stream",
          "name": "stderr",
          "text": [
            "100%|██████████| 1/1 [00:00<00:00, 276.07it/s]\n",
            "100%|██████████| 1/1 [00:00<00:00, 278.80it/s]\n",
            "100%|██████████| 1/1 [00:00<00:00, 160.04it/s]\n"
          ]
        },
        {
          "output_type": "stream",
          "name": "stdout",
          "text": [
            "-0.4522923529148102\n"
          ]
        },
        {
          "output_type": "stream",
          "name": "stderr",
          "text": [
            "100%|██████████| 1/1 [00:00<00:00, 403.57it/s]\n",
            "100%|██████████| 1/1 [00:00<00:00, 427.29it/s]\n",
            "100%|██████████| 1/1 [00:00<00:00, 449.36it/s]\n"
          ]
        },
        {
          "output_type": "stream",
          "name": "stdout",
          "text": [
            "-0.451157808303833\n"
          ]
        },
        {
          "output_type": "stream",
          "name": "stderr",
          "text": [
            "100%|██████████| 1/1 [00:00<00:00, 415.98it/s]\n",
            "100%|██████████| 1/1 [00:00<00:00, 383.60it/s]\n",
            "100%|██████████| 1/1 [00:00<00:00, 366.47it/s]\n"
          ]
        },
        {
          "output_type": "stream",
          "name": "stdout",
          "text": [
            "-0.46066731214523315\n"
          ]
        },
        {
          "output_type": "stream",
          "name": "stderr",
          "text": [
            "100%|██████████| 1/1 [00:00<00:00, 419.01it/s]\n",
            "100%|██████████| 1/1 [00:00<00:00, 446.96it/s]\n",
            "100%|██████████| 1/1 [00:00<00:00, 436.86it/s]\n"
          ]
        },
        {
          "output_type": "stream",
          "name": "stdout",
          "text": [
            "-0.45656391978263855\n"
          ]
        },
        {
          "output_type": "stream",
          "name": "stderr",
          "text": [
            "100%|██████████| 1/1 [00:00<00:00, 398.09it/s]\n",
            "100%|██████████| 1/1 [00:00<00:00, 411.17it/s]\n",
            "100%|██████████| 1/1 [00:00<00:00, 417.39it/s]\n"
          ]
        },
        {
          "output_type": "stream",
          "name": "stdout",
          "text": [
            "-0.4628311097621918\n"
          ]
        },
        {
          "output_type": "stream",
          "name": "stderr",
          "text": [
            "100%|██████████| 1/1 [00:00<00:00, 384.02it/s]\n",
            "100%|██████████| 1/1 [00:00<00:00, 413.19it/s]\n",
            "100%|██████████| 1/1 [00:00<00:00, 440.39it/s]\n"
          ]
        },
        {
          "output_type": "stream",
          "name": "stdout",
          "text": [
            "-0.46066731214523315\n"
          ]
        },
        {
          "output_type": "stream",
          "name": "stderr",
          "text": [
            "100%|██████████| 1/1 [00:00<00:00, 364.12it/s]\n",
            "100%|██████████| 1/1 [00:00<00:00, 423.75it/s]\n",
            "100%|██████████| 1/1 [00:00<00:00, 452.51it/s]\n"
          ]
        },
        {
          "output_type": "stream",
          "name": "stdout",
          "text": [
            "-0.4607744514942169\n"
          ]
        },
        {
          "output_type": "stream",
          "name": "stderr",
          "text": [
            "100%|██████████| 1/1 [00:00<00:00, 412.46it/s]\n",
            "100%|██████████| 1/1 [00:00<00:00, 415.73it/s]\n",
            "100%|██████████| 1/1 [00:00<00:00, 384.20it/s]\n"
          ]
        },
        {
          "output_type": "stream",
          "name": "stdout",
          "text": [
            "-0.464486300945282\n"
          ]
        },
        {
          "output_type": "stream",
          "name": "stderr",
          "text": [
            "100%|██████████| 1/1 [00:00<00:00, 388.15it/s]\n",
            "100%|██████████| 1/1 [00:00<00:00, 410.92it/s]\n",
            "100%|██████████| 1/1 [00:00<00:00, 426.34it/s]\n"
          ]
        },
        {
          "output_type": "stream",
          "name": "stdout",
          "text": [
            "-0.465072363615036\n"
          ]
        },
        {
          "output_type": "stream",
          "name": "stderr",
          "text": [
            "100%|██████████| 1/1 [00:00<00:00, 231.73it/s]\n",
            "100%|██████████| 1/1 [00:00<00:00, 284.11it/s]\n",
            "100%|██████████| 1/1 [00:00<00:00, 434.42it/s]\n"
          ]
        },
        {
          "output_type": "stream",
          "name": "stdout",
          "text": [
            "-0.461223840713501\n"
          ]
        },
        {
          "output_type": "stream",
          "name": "stderr",
          "text": [
            "100%|██████████| 1/1 [00:00<00:00, 387.04it/s]\n",
            "100%|██████████| 1/1 [00:00<00:00, 333.15it/s]\n",
            "100%|██████████| 1/1 [00:00<00:00, 440.49it/s]\n"
          ]
        },
        {
          "output_type": "stream",
          "name": "stdout",
          "text": [
            "-0.46122458577156067\n"
          ]
        },
        {
          "output_type": "stream",
          "name": "stderr",
          "text": [
            "100%|██████████| 1/1 [00:00<00:00, 394.54it/s]\n",
            "100%|██████████| 1/1 [00:00<00:00, 375.36it/s]\n",
            "100%|██████████| 1/1 [00:00<00:00, 291.51it/s]\n"
          ]
        },
        {
          "output_type": "stream",
          "name": "stdout",
          "text": [
            "-0.46632879972457886\n"
          ]
        },
        {
          "output_type": "stream",
          "name": "stderr",
          "text": [
            "100%|██████████| 1/1 [00:00<00:00, 332.64it/s]\n",
            "100%|██████████| 1/1 [00:00<00:00, 414.87it/s]\n",
            "100%|██████████| 1/1 [00:00<00:00, 411.00it/s]\n"
          ]
        },
        {
          "output_type": "stream",
          "name": "stdout",
          "text": [
            "-0.4676957428455353\n"
          ]
        },
        {
          "output_type": "stream",
          "name": "stderr",
          "text": [
            "100%|██████████| 1/1 [00:00<00:00, 394.16it/s]\n",
            "100%|██████████| 1/1 [00:00<00:00, 412.34it/s]\n",
            "100%|██████████| 1/1 [00:00<00:00, 410.40it/s]\n"
          ]
        },
        {
          "output_type": "stream",
          "name": "stdout",
          "text": [
            "-0.46236515045166016\n"
          ]
        },
        {
          "output_type": "stream",
          "name": "stderr",
          "text": [
            "100%|██████████| 1/1 [00:00<00:00, 231.78it/s]\n",
            "100%|██████████| 1/1 [00:00<00:00, 251.80it/s]\n",
            "100%|██████████| 1/1 [00:00<00:00, 456.45it/s]\n"
          ]
        },
        {
          "output_type": "stream",
          "name": "stdout",
          "text": [
            "-0.4662120044231415\n"
          ]
        },
        {
          "output_type": "stream",
          "name": "stderr",
          "text": [
            "100%|██████████| 1/1 [00:00<00:00, 405.21it/s]\n",
            "100%|██████████| 1/1 [00:00<00:00, 383.95it/s]\n",
            "100%|██████████| 1/1 [00:00<00:00, 421.62it/s]\n"
          ]
        },
        {
          "output_type": "stream",
          "name": "stdout",
          "text": [
            "-0.46419352293014526\n"
          ]
        },
        {
          "output_type": "stream",
          "name": "stderr",
          "text": [
            "100%|██████████| 1/1 [00:00<00:00, 364.28it/s]\n",
            "100%|██████████| 1/1 [00:00<00:00, 388.76it/s]\n",
            "100%|██████████| 1/1 [00:00<00:00, 438.41it/s]\n"
          ]
        },
        {
          "output_type": "stream",
          "name": "stdout",
          "text": [
            "-0.46624755859375\n"
          ]
        },
        {
          "output_type": "stream",
          "name": "stderr",
          "text": [
            "100%|██████████| 1/1 [00:00<00:00, 309.00it/s]\n",
            "100%|██████████| 1/1 [00:00<00:00, 410.08it/s]\n",
            "100%|██████████| 1/1 [00:00<00:00, 443.42it/s]\n"
          ]
        },
        {
          "output_type": "stream",
          "name": "stdout",
          "text": [
            "-0.4680817127227783\n"
          ]
        },
        {
          "output_type": "stream",
          "name": "stderr",
          "text": [
            "100%|██████████| 1/1 [00:00<00:00, 403.26it/s]\n",
            "100%|██████████| 1/1 [00:00<00:00, 428.03it/s]\n",
            "100%|██████████| 1/1 [00:00<00:00, 426.94it/s]\n"
          ]
        },
        {
          "output_type": "stream",
          "name": "stdout",
          "text": [
            "-0.46763941645622253\n"
          ]
        },
        {
          "output_type": "stream",
          "name": "stderr",
          "text": [
            "100%|██████████| 1/1 [00:00<00:00, 437.68it/s]\n",
            "100%|██████████| 1/1 [00:00<00:00, 450.32it/s]\n",
            "100%|██████████| 1/1 [00:00<00:00, 469.79it/s]\n"
          ]
        },
        {
          "output_type": "stream",
          "name": "stdout",
          "text": [
            "-0.4611731171607971\n"
          ]
        },
        {
          "output_type": "stream",
          "name": "stderr",
          "text": [
            "100%|██████████| 1/1 [00:00<00:00, 333.84it/s]\n",
            "100%|██████████| 1/1 [00:00<00:00, 408.09it/s]\n",
            "100%|██████████| 1/1 [00:00<00:00, 441.04it/s]\n"
          ]
        },
        {
          "output_type": "stream",
          "name": "stdout",
          "text": [
            "-0.46119892597198486\n"
          ]
        },
        {
          "output_type": "stream",
          "name": "stderr",
          "text": [
            "100%|██████████| 1/1 [00:00<00:00, 346.84it/s]\n",
            "100%|██████████| 1/1 [00:00<00:00, 428.25it/s]\n",
            "100%|██████████| 1/1 [00:00<00:00, 453.68it/s]\n"
          ]
        },
        {
          "output_type": "stream",
          "name": "stdout",
          "text": [
            "-0.4597249925136566\n"
          ]
        },
        {
          "output_type": "stream",
          "name": "stderr",
          "text": [
            "100%|██████████| 1/1 [00:00<00:00, 398.05it/s]\n",
            "100%|██████████| 1/1 [00:00<00:00, 440.25it/s]\n",
            "100%|██████████| 1/1 [00:00<00:00, 339.54it/s]\n"
          ]
        },
        {
          "output_type": "stream",
          "name": "stdout",
          "text": [
            "-0.4649072289466858\n"
          ]
        },
        {
          "output_type": "stream",
          "name": "stderr",
          "text": [
            "100%|██████████| 1/1 [00:00<00:00, 377.12it/s]\n",
            "100%|██████████| 1/1 [00:00<00:00, 408.92it/s]\n",
            "100%|██████████| 1/1 [00:00<00:00, 411.85it/s]\n"
          ]
        },
        {
          "output_type": "stream",
          "name": "stdout",
          "text": [
            "-0.453418493270874\n"
          ]
        },
        {
          "output_type": "stream",
          "name": "stderr",
          "text": [
            "100%|██████████| 1/1 [00:00<00:00, 410.84it/s]\n",
            "100%|██████████| 1/1 [00:00<00:00, 403.53it/s]\n",
            "100%|██████████| 1/1 [00:00<00:00, 437.13it/s]\n"
          ]
        },
        {
          "output_type": "stream",
          "name": "stdout",
          "text": [
            "-0.453418493270874\n"
          ]
        },
        {
          "output_type": "stream",
          "name": "stderr",
          "text": [
            "100%|██████████| 1/1 [00:00<00:00, 371.77it/s]\n",
            "100%|██████████| 1/1 [00:00<00:00, 404.50it/s]\n",
            "100%|██████████| 1/1 [00:00<00:00, 386.07it/s]\n"
          ]
        },
        {
          "output_type": "stream",
          "name": "stdout",
          "text": [
            "-0.4606373608112335\n"
          ]
        },
        {
          "output_type": "stream",
          "name": "stderr",
          "text": [
            "100%|██████████| 1/1 [00:00<00:00, 388.07it/s]\n",
            "100%|██████████| 1/1 [00:00<00:00, 338.69it/s]\n",
            "100%|██████████| 1/1 [00:00<00:00, 413.56it/s]\n"
          ]
        },
        {
          "output_type": "stream",
          "name": "stdout",
          "text": [
            "-0.45841631293296814\n"
          ]
        },
        {
          "output_type": "stream",
          "name": "stderr",
          "text": [
            "100%|██████████| 1/1 [00:00<00:00, 277.42it/s]\n",
            "100%|██████████| 1/1 [00:00<00:00, 448.44it/s]\n",
            "100%|██████████| 1/1 [00:00<00:00, 385.01it/s]\n"
          ]
        },
        {
          "output_type": "stream",
          "name": "stdout",
          "text": [
            "-0.4673517048358917\n"
          ]
        },
        {
          "output_type": "stream",
          "name": "stderr",
          "text": [
            "100%|██████████| 1/1 [00:00<00:00, 244.44it/s]\n",
            "100%|██████████| 1/1 [00:00<00:00, 252.15it/s]\n",
            "100%|██████████| 1/1 [00:00<00:00, 241.27it/s]\n"
          ]
        },
        {
          "output_type": "stream",
          "name": "stdout",
          "text": [
            "-0.4676699638366699\n"
          ]
        },
        {
          "output_type": "stream",
          "name": "stderr",
          "text": [
            "100%|██████████| 1/1 [00:00<00:00, 393.17it/s]\n",
            "100%|██████████| 1/1 [00:00<00:00, 436.41it/s]\n",
            "100%|██████████| 1/1 [00:00<00:00, 430.94it/s]\n"
          ]
        },
        {
          "output_type": "stream",
          "name": "stdout",
          "text": [
            "-0.4606373608112335\n"
          ]
        },
        {
          "output_type": "stream",
          "name": "stderr",
          "text": [
            "100%|██████████| 1/1 [00:00<00:00, 308.56it/s]\n",
            "100%|██████████| 1/1 [00:00<00:00, 440.49it/s]\n",
            "100%|██████████| 1/1 [00:00<00:00, 466.45it/s]\n"
          ]
        },
        {
          "output_type": "stream",
          "name": "stdout",
          "text": [
            "-0.46452826261520386\n"
          ]
        },
        {
          "output_type": "stream",
          "name": "stderr",
          "text": [
            "100%|██████████| 1/1 [00:00<00:00, 378.44it/s]\n",
            "100%|██████████| 1/1 [00:00<00:00, 419.43it/s]\n",
            "100%|██████████| 1/1 [00:00<00:00, 446.58it/s]\n"
          ]
        },
        {
          "output_type": "stream",
          "name": "stdout",
          "text": [
            "-0.4664406478404999\n"
          ]
        },
        {
          "output_type": "stream",
          "name": "stderr",
          "text": [
            "100%|██████████| 1/1 [00:00<00:00, 353.12it/s]\n",
            "100%|██████████| 1/1 [00:00<00:00, 405.52it/s]\n",
            "100%|██████████| 1/1 [00:00<00:00, 430.85it/s]\n"
          ]
        },
        {
          "output_type": "stream",
          "name": "stdout",
          "text": [
            "-0.4640258550643921\n"
          ]
        },
        {
          "output_type": "stream",
          "name": "stderr",
          "text": [
            "100%|██████████| 1/1 [00:00<00:00, 395.80it/s]\n",
            "100%|██████████| 1/1 [00:00<00:00, 386.18it/s]\n",
            "100%|██████████| 1/1 [00:00<00:00, 421.88it/s]\n"
          ]
        },
        {
          "output_type": "stream",
          "name": "stdout",
          "text": [
            "-0.467483252286911\n"
          ]
        },
        {
          "output_type": "stream",
          "name": "stderr",
          "text": [
            "100%|██████████| 1/1 [00:00<00:00, 373.32it/s]\n",
            "100%|██████████| 1/1 [00:00<00:00, 409.24it/s]\n",
            "100%|██████████| 1/1 [00:00<00:00, 411.81it/s]\n"
          ]
        },
        {
          "output_type": "stream",
          "name": "stdout",
          "text": [
            "-0.46836769580841064\n"
          ]
        },
        {
          "output_type": "stream",
          "name": "stderr",
          "text": [
            "100%|██████████| 1/1 [00:00<00:00, 397.00it/s]\n",
            "100%|██████████| 1/1 [00:00<00:00, 352.94it/s]\n",
            "100%|██████████| 1/1 [00:00<00:00, 436.77it/s]\n"
          ]
        },
        {
          "output_type": "stream",
          "name": "stdout",
          "text": [
            "-0.4650489091873169\n"
          ]
        },
        {
          "output_type": "stream",
          "name": "stderr",
          "text": [
            "100%|██████████| 1/1 [00:00<00:00, 405.95it/s]\n",
            "100%|██████████| 1/1 [00:00<00:00, 426.90it/s]\n",
            "100%|██████████| 1/1 [00:00<00:00, 434.96it/s]\n"
          ]
        },
        {
          "output_type": "stream",
          "name": "stdout",
          "text": [
            "-0.46274006366729736\n"
          ]
        },
        {
          "output_type": "stream",
          "name": "stderr",
          "text": [
            "100%|██████████| 1/1 [00:00<00:00, 257.34it/s]\n",
            "100%|██████████| 1/1 [00:00<00:00, 424.44it/s]\n",
            "100%|██████████| 1/1 [00:00<00:00, 435.46it/s]\n"
          ]
        },
        {
          "output_type": "stream",
          "name": "stdout",
          "text": [
            "-0.46714362502098083\n"
          ]
        },
        {
          "output_type": "stream",
          "name": "stderr",
          "text": [
            "100%|██████████| 1/1 [00:00<00:00, 383.15it/s]\n",
            "100%|██████████| 1/1 [00:00<00:00, 403.61it/s]\n",
            "100%|██████████| 1/1 [00:00<00:00, 275.85it/s]\n"
          ]
        },
        {
          "output_type": "stream",
          "name": "stdout",
          "text": [
            "-0.4645238220691681\n"
          ]
        },
        {
          "output_type": "stream",
          "name": "stderr",
          "text": [
            "100%|██████████| 1/1 [00:00<00:00, 367.08it/s]\n",
            "100%|██████████| 1/1 [00:00<00:00, 407.45it/s]\n",
            "100%|██████████| 1/1 [00:00<00:00, 401.56it/s]\n"
          ]
        },
        {
          "output_type": "stream",
          "name": "stdout",
          "text": [
            "-0.4603812098503113\n"
          ]
        },
        {
          "output_type": "stream",
          "name": "stderr",
          "text": [
            "100%|██████████| 1/1 [00:00<00:00, 391.99it/s]\n",
            "100%|██████████| 1/1 [00:00<00:00, 432.80it/s]\n",
            "100%|██████████| 1/1 [00:00<00:00, 441.41it/s]\n"
          ]
        },
        {
          "output_type": "stream",
          "name": "stdout",
          "text": [
            "-0.467092901468277\n"
          ]
        },
        {
          "output_type": "stream",
          "name": "stderr",
          "text": [
            "100%|██████████| 1/1 [00:00<00:00, 427.03it/s]\n",
            "100%|██████████| 1/1 [00:00<00:00, 446.30it/s]\n",
            "100%|██████████| 1/1 [00:00<00:00, 461.37it/s]\n"
          ]
        },
        {
          "output_type": "stream",
          "name": "stdout",
          "text": [
            "-0.47163933515548706\n"
          ]
        },
        {
          "output_type": "stream",
          "name": "stderr",
          "text": [
            "100%|██████████| 1/1 [00:00<00:00, 335.17it/s]\n",
            "100%|██████████| 1/1 [00:00<00:00, 438.51it/s]\n",
            "100%|██████████| 1/1 [00:00<00:00, 439.38it/s]\n"
          ]
        },
        {
          "output_type": "stream",
          "name": "stdout",
          "text": [
            "-0.4709344208240509\n"
          ]
        },
        {
          "output_type": "stream",
          "name": "stderr",
          "text": [
            "100%|██████████| 1/1 [00:00<00:00, 331.07it/s]\n",
            "100%|██████████| 1/1 [00:00<00:00, 420.90it/s]\n",
            "100%|██████████| 1/1 [00:00<00:00, 414.91it/s]\n"
          ]
        },
        {
          "output_type": "stream",
          "name": "stdout",
          "text": [
            "-0.47323504090309143\n"
          ]
        },
        {
          "output_type": "stream",
          "name": "stderr",
          "text": [
            "100%|██████████| 1/1 [00:00<00:00, 281.12it/s]\n",
            "100%|██████████| 1/1 [00:00<00:00, 380.13it/s]\n",
            "100%|██████████| 1/1 [00:00<00:00, 419.01it/s]\n"
          ]
        },
        {
          "output_type": "stream",
          "name": "stdout",
          "text": [
            "Converged after 72 steps! Distance from target: 0.008745\n"
          ]
        },
        {
          "output_type": "stream",
          "name": "stderr",
          "text": [
            "100%|██████████| 1/1 [00:00<00:00, 434.19it/s]\n"
          ]
        },
        {
          "output_type": "stream",
          "name": "stdout",
          "text": [
            "0.30874527\n"
          ]
        },
        {
          "output_type": "stream",
          "name": "stderr",
          "text": [
            "100%|██████████| 1/1 [00:00<00:00, 451.19it/s]"
          ]
        },
        {
          "output_type": "stream",
          "name": "stdout",
          "text": [
            "Best distance achieved: 0.008745\n",
            "Best sequence: ('VLTKTRYTHGYGKKKNKRIGRMPGKHSNLWCALKKASKRRKRRKNVFVHKKKRSSASVDNTPAGSPQGNGGEDEDDEYEEFDDSLSEGSTSEQQDELQEEEEMSEMGSCPNSYTQSGIAAFAPWDPQRRKRELRTFSFSDDRNKPPSPKEIRIHVAERLHNP', np.float32(0.97162324))\n"
          ]
        },
        {
          "output_type": "stream",
          "name": "stderr",
          "text": [
            "\n"
          ]
        }
      ]
    }
  ]
}